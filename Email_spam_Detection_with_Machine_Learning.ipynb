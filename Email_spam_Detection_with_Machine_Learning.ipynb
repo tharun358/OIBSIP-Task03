{
  "nbformat": 4,
  "nbformat_minor": 0,
  "metadata": {
    "colab": {
      "provenance": [],
      "authorship_tag": "ABX9TyMtaH7gA3aucc0UU4epK7xJ",
      "include_colab_link": true
    },
    "kernelspec": {
      "name": "python3",
      "display_name": "Python 3"
    },
    "language_info": {
      "name": "python"
    }
  },
  "cells": [
    {
      "cell_type": "markdown",
      "metadata": {
        "id": "view-in-github",
        "colab_type": "text"
      },
      "source": [
        "<a href=\"https://colab.research.google.com/github/tharun358/OIBSIP-Task03/blob/main/Email_spam_Detection_with_Machine_Learning.ipynb\" target=\"_parent\"><img src=\"https://colab.research.google.com/assets/colab-badge.svg\" alt=\"Open In Colab\"/></a>"
      ]
    },
    {
      "cell_type": "code",
      "source": [
        "import pandas as pd\n",
        "import string\n",
        "import re\n",
        "\n",
        "from sklearn.model_selection import train_test_split\n",
        "from sklearn.feature_extraction.text import TfidfVectorizer\n",
        "from sklearn.naive_bayes import MultinomialNB\n",
        "from sklearn.metrics import accuracy_score, confusion_matrix, classification_report\n"
      ],
      "metadata": {
        "id": "zMmeq9Z3RYbU"
      },
      "execution_count": 22,
      "outputs": []
    },
    {
      "cell_type": "code",
      "source": [
        "def load_data(filepath):\n",
        "    # The provided file uses \"spam\" and \"ham\" labels\n",
        "    df = pd.read_csv(filepath, encoding='latin-1')\n",
        "    # The first two columns: v1 (label), v2 (text)\n",
        "    df = df[['v1', 'v2']]\n",
        "    df.columns = ['label', 'text']\n",
        "    return df"
      ],
      "metadata": {
        "id": "U4Jbtg7eRYYs"
      },
      "execution_count": 23,
      "outputs": []
    },
    {
      "cell_type": "code",
      "source": [
        "def clean_text(text):\n",
        "    text = text.lower()\n",
        "    text = re.sub(f'[{re.escape(string.punctuation)}]', '', text)\n",
        "    text = re.sub(r'\\d+', '', text)\n",
        "    text = text.strip()\n",
        "    return text"
      ],
      "metadata": {
        "id": "vy5Y70IHRYWY"
      },
      "execution_count": 24,
      "outputs": []
    },
    {
      "cell_type": "code",
      "source": [
        "def preprocess(df):\n",
        "    df['text'] = df['text'].apply(clean_text)\n",
        "    df['label'] = df['label'].map({'ham': 0, 'spam': 1})\n",
        "    return df\n"
      ],
      "metadata": {
        "id": "cIJQfVwYRYTi"
      },
      "execution_count": 25,
      "outputs": []
    },
    {
      "cell_type": "code",
      "source": [
        "def split(df):\n",
        "    X = df['text']\n",
        "    y = df['label']\n",
        "    return train_test_split(X, y, test_size=0.2, random_state=42)\n"
      ],
      "metadata": {
        "id": "M1aP8dFrRYQ6"
      },
      "execution_count": 26,
      "outputs": []
    },
    {
      "cell_type": "code",
      "source": [
        "def train_model(X_train, y_train):\n",
        "    vectorizer = TfidfVectorizer(stop_words='english')\n",
        "    X_train_vec = vectorizer.fit_transform(X_train)\n",
        "    clf = MultinomialNB()\n",
        "    clf.fit(X_train_vec, y_train)\n",
        "    return vectorizer, clf\n"
      ],
      "metadata": {
        "id": "DyAjksIARYOT"
      },
      "execution_count": 27,
      "outputs": []
    },
    {
      "cell_type": "code",
      "source": [
        "def evaluate(vectorizer, clf, X_test, y_test):\n",
        "    X_test_vec = vectorizer.transform(X_test)\n",
        "    preds = clf.predict(X_test_vec)\n",
        "    print(\"Accuracy:\", accuracy_score(y_test, preds))\n",
        "    print(\"Confusion Matrix:\\n\", confusion_matrix(y_test, preds))\n",
        "    print(\"Classification Report:\\n\", classification_report(y_test, preds))\n",
        "\n"
      ],
      "metadata": {
        "id": "gEekAw6eRYLd"
      },
      "execution_count": 29,
      "outputs": []
    },
    {
      "cell_type": "code",
      "source": [
        "def predict_email(email, vectorizer, clf):\n",
        "    email = clean_text(email)\n",
        "    email_vec = vectorizer.transform([email])\n",
        "    pred = clf.predict(email_vec)[0]\n",
        "    return \"Spam\" if pred == 1 else \"Ham (Not Spam)\"\n",
        "\n",
        "if __name__ == \"__main__\":\n",
        "    # Update the path to your spam.csv file if required\n",
        "    df = load_data('spam.csv')\n",
        "    df = preprocess(df)\n",
        "    X_train, X_test, y_train, y_test = split(df)\n",
        "    vectorizer, clf = train_model(X_train, y_train)\n",
        "    evaluate(vectorizer, clf, X_test, y_test)\n",
        "\n",
        "    # Try predicting a new message\n",
        "    example = \"WINNER!! You have won a free ticket to Bahamas. Click here to claim.\"\n",
        "    print(f\"\\nExample message: '{example}'\")\n",
        "    print(\"Prediction:\", predict_email(example, vectorizer, clf))"
      ],
      "metadata": {
        "colab": {
          "base_uri": "https://localhost:8080/"
        },
        "id": "nJvQZW8vR2T6",
        "outputId": "985a0355-7ba7-4b3e-e219-bfc0ec73b03b"
      },
      "execution_count": 30,
      "outputs": [
        {
          "output_type": "stream",
          "name": "stdout",
          "text": [
            "Accuracy: 0.968609865470852\n",
            "Confusion Matrix:\n",
            " [[965   0]\n",
            " [ 35 115]]\n",
            "Classification Report:\n",
            "               precision    recall  f1-score   support\n",
            "\n",
            "           0       0.96      1.00      0.98       965\n",
            "           1       1.00      0.77      0.87       150\n",
            "\n",
            "    accuracy                           0.97      1115\n",
            "   macro avg       0.98      0.88      0.93      1115\n",
            "weighted avg       0.97      0.97      0.97      1115\n",
            "\n",
            "\n",
            "Example message: 'WINNER!! You have won a free ticket to Bahamas. Click here to claim.'\n",
            "Prediction: Spam\n"
          ]
        }
      ]
    }
  ]
}